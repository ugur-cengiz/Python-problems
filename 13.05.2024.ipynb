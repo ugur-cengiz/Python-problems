{
 "cells": [
  {
   "cell_type": "code",
   "execution_count": 1,
   "id": "6d55a139-dec8-46bf-bae8-a51edbb8d09e",
   "metadata": {},
   "outputs": [],
   "source": [
    "#Deneme"
   ]
  },
  {
   "cell_type": "code",
   "execution_count": null,
   "id": "a5d823f4-0b52-41d7-9789-63d70175f61a",
   "metadata": {},
   "outputs": [],
   "source": []
  },
  {
   "cell_type": "code",
   "execution_count": null,
   "id": "f1c8b4dc-0f33-4e00-a2e6-57c6142d04c7",
   "metadata": {},
   "outputs": [],
   "source": []
  }
 ],
 "metadata": {
  "kernelspec": {
   "display_name": "Python 3 (ipykernel)",
   "language": "python",
   "name": "python3"
  },
  "language_info": {
   "codemirror_mode": {
    "name": "ipython",
    "version": 3
   },
   "file_extension": ".py",
   "mimetype": "text/x-python",
   "name": "python",
   "nbconvert_exporter": "python",
   "pygments_lexer": "ipython3",
   "version": "3.12.3"
  }
 },
 "nbformat": 4,
 "nbformat_minor": 5
}
